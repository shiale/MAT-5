{
 "cells": [
  {
   "cell_type": "markdown",
   "metadata": {},
   "source": [
    "## Линейная алгебра ч.1\n",
    "http://immersivemath.com/ila/learnmore.html"
   ]
  },
  {
   "cell_type": "markdown",
   "metadata": {},
   "source": [
    "### Вектор:\n",
    "* в школьной геометрии - направленный отрезок\n",
    "* в линейной алгебре - элемент векторного пространства\n",
    "* в python - числовой массив (например Numpy)\n",
    "\n",
    "Определение:\n",
    "- Вектор это набор чисел записанный в определенном порядке в столбик или в строчку."
   ]
  },
  {
   "cell_type": "markdown",
   "metadata": {},
   "source": [
    "В качестве примера рассмотрим регистр учет затрат. Столбцы мы можем рассмотреть в качестве векторов, получив информацию о каждой хозяйственной операции по одному параметру, например по стоимости. Если взять в качестве векторов строки, то мы увидим срез всех параметров по одной операции. "
   ]
  },
  {
   "cell_type": "markdown",
   "metadata": {},
   "source": [
    "Основные характеристики вектора:\n",
    "- Координаты вектора - числа из которых он состоит\n",
    "- Размерность вектора - количество координат"
   ]
  },
  {
   "cell_type": "markdown",
   "metadata": {},
   "source": [
    "### Задача из жизни\n",
    "Агентство недвижимости выставило за неделю несколько квартир площадью 33, 65, 50 и 45 кв м. Сколько всего квартир выставлено за неделю? Какова площадь квартиры номер 3?"
   ]
  },
  {
   "cell_type": "code",
   "execution_count": 1,
   "metadata": {},
   "outputs": [
    {
     "name": "stdout",
     "output_type": "stream",
     "text": [
      "50\n",
      "4\n"
     ]
    }
   ],
   "source": [
    "# Решение:\n",
    "\n",
    "# Задаем наш вектор как одномерный массив numpy\n",
    "\n",
    "import numpy as np\n",
    "s = np.array([33, 65, 50, 45])\n",
    "print(s[2])\n",
    "print(len(s))"
   ]
  },
  {
   "cell_type": "markdown",
   "metadata": {},
   "source": [
    "Чтобы иметь возможность математически или даже программно оперировать сущностями нашего мира, нам нужно их упростить до формы понятной компьютеру. Признаковое описание объектов реального мира в виде чисел - это и есть то самое упрощение.\n",
    "\n",
    "Анализируя потенциальную стоимость определенной квартиры, мы будем иметь в виду следующие признаки:\n",
    "- общая площадь квартиры в квадратных метрах\n",
    "- этаж квартиры\n",
    "- количество комнат\n",
    "- цена квартиры за квадратный метр\n",
    "- количество подъездов в доме\n"
   ]
  },
  {
   "cell_type": "markdown",
   "metadata": {},
   "source": [
    "рассмотрим предложение на покупку.\n",
    "\n",
    "На рынке новостроек появилось предложение от застройщика - двухкомнатная квартира общей плщадью 59.50 кв.м, жилой плщадью 31.40 кв.м на 19 этаже 22-х этажного дома. В доме 2 подъезда. Цена за квадратный метр квартиры у этого застройщика составляет 60550\n",
    "\n",
    "Таким образом мы можем описать нашу квартиру числовой последовательностью важных для нас признаков при покупке квартиры."
   ]
  },
  {
   "cell_type": "code",
   "execution_count": 2,
   "metadata": {},
   "outputs": [],
   "source": [
    "apartment = np.array([59.50, 31.40, 19, 2, 60550, 2])"
   ]
  },
  {
   "cell_type": "markdown",
   "metadata": {},
   "source": [
    "Эта последовательность чисел и называется вектором. Вектором характеризует конкретный объект - конкретную квартиру. А число в той или иной позиции вектора описывает конкретный признак объекта. То есть вектор - это, по сути, одномерный массив."
   ]
  },
  {
   "cell_type": "code",
   "execution_count": 3,
   "metadata": {},
   "outputs": [
    {
     "name": "stdout",
     "output_type": "stream",
     "text": [
      "ndim: 1\n",
      "shape (6,)\n"
     ]
    }
   ],
   "source": [
    "# В NumPy вектор и массив - одно и то же.\n",
    "# Исключение - понятие вектор-столбец и вектор-строка - фактически двумерные массивы,\n",
    "# где один из атрибутов shape равен 1\n",
    "print(\"ndim:\",apartment.ndim)\n",
    "print(\"shape\",apartment.shape)"
   ]
  },
  {
   "cell_type": "markdown",
   "metadata": {},
   "source": [
    "попробуем извлечь полезную информацию из вектора, при этом уменьшив его.\n",
    "\n",
    "Упростим себе задачу оценки новой квартиры  - сгенерируем новый признак - отношение жилой площади к общей. А от старых признаков смело избавимся, сократив векторное пространство нашего объекта.\n",
    "\n",
    "Возьмем квартиру из описания выше и представим ее неким вектором apartment"
   ]
  },
  {
   "cell_type": "code",
   "execution_count": 8,
   "metadata": {},
   "outputs": [],
   "source": [
    "apartment = np.array([59.50, 31.40, 19, 2, 60550, 2])"
   ]
  },
  {
   "cell_type": "markdown",
   "metadata": {},
   "source": [
    "Для того, чтобы сгенерировать новый параметр share_living_space (доля жилой площади в квартире) из старых признаков, содержащихся в векторе-описании apartment нашей квартиры, нам необходимо вспомнить обращение к элементам массива. Разделим значение жилой площади на ее общее количество:"
   ]
  },
  {
   "cell_type": "code",
   "execution_count": 9,
   "metadata": {},
   "outputs": [],
   "source": [
    "share_living_space = apartment[1]/apartment[0]"
   ]
  },
  {
   "cell_type": "markdown",
   "metadata": {},
   "source": [
    "избавимся от старых признаков, посредством функции delete(), которую предоставляет бибилиотека numpy. Передадим в значение функции индексы признаков, которые необходимо удалить из нашего массива apartment"
   ]
  },
  {
   "cell_type": "code",
   "execution_count": 11,
   "metadata": {},
   "outputs": [
    {
     "data": {
      "text/plain": [
       "array([6.055e+04, 2.000e+00])"
      ]
     },
     "execution_count": 11,
     "metadata": {},
     "output_type": "execute_result"
    }
   ],
   "source": [
    "apartment = np.delete(apartment,[0,1])\n",
    "apartment"
   ]
  },
  {
   "cell_type": "code",
   "execution_count": 27,
   "metadata": {},
   "outputs": [
    {
     "data": {
      "text/plain": [
       "0.5277310924369748"
      ]
     },
     "execution_count": 27,
     "metadata": {},
     "output_type": "execute_result"
    }
   ],
   "source": [
    "apartment = np.array([59.50, 31.40, 19, 2, 60550, 2])\n",
    "share_living_space = apartment[1]/apartment[0]\n",
    "apartment = np.delete(apartment,[0,1])\n",
    "np.append(apartment, share_living_space)\n",
    "# apartment[3:4]\n",
    "share_living_space"
   ]
  },
  {
   "cell_type": "code",
   "execution_count": 28,
   "metadata": {},
   "outputs": [],
   "source": [
    "# 1.2.3\n",
    "\n",
    "t = np.array([12, 14, 17, 19, 24, 28, 31, 31, 27, 22, 17, 13])"
   ]
  },
  {
   "cell_type": "markdown",
   "metadata": {},
   "source": [
    "Ссылки на Numpy:\n",
    "- https://habr.com/ru/post/352678/\n",
    "- https://habr.com/ru/post/353416/\n",
    "- https://habr.com/ru/post/413381/\n",
    "\n"
   ]
  },
  {
   "cell_type": "markdown",
   "metadata": {},
   "source": [
    "## Сложение векторов\n",
    "Сложение векторов происходит поэлементно\n",
    "\n",
    "Задача.\n",
    "За текущую неделю просмотры по четырем квартирам составили 10, 8, 5 и 1 раз, а за предыдущую 5, 15, 9 и 7 раз соответственно. Найдите суммарное количество просмотров за 2 недели. Найдите разницу в просмотрах по каждой квартире за 2 недели."
   ]
  },
  {
   "cell_type": "code",
   "execution_count": 31,
   "metadata": {},
   "outputs": [
    {
     "name": "stdout",
     "output_type": "stream",
     "text": [
      "[15 23 14  8]\n",
      "[ 5 -7 -4 -6]\n"
     ]
    }
   ],
   "source": [
    "a = np.array([10, 8, 5, 1])\n",
    "b = np.array([5, 15, 9, 7])\n",
    "print(a + b)\n",
    "print(a - b)"
   ]
  },
  {
   "cell_type": "markdown",
   "metadata": {},
   "source": [
    "### Умножение вектора на число\n",
    "Умножение вектора на число так же происходит поэлементно, то есть каждая координата вектора умножается на заданное число.\n",
    "\n",
    "Задача\n",
    "\n",
    "Найдите произведение вектора а = [120, 45, 68] и числа 0.2"
   ]
  },
  {
   "cell_type": "code",
   "execution_count": 32,
   "metadata": {},
   "outputs": [
    {
     "data": {
      "text/plain": [
       "array([24. ,  9. , 13.6])"
      ]
     },
     "execution_count": 32,
     "metadata": {},
     "output_type": "execute_result"
    }
   ],
   "source": [
    "a = np.array([120, 45, 68])\n",
    "c = a * 0.2\n",
    "c"
   ]
  },
  {
   "cell_type": "markdown",
   "metadata": {},
   "source": [
    "Векторы a и c пропорциональны друг другу с коэффициентом 0.2 Такие векторы так же называют коллинеарными."
   ]
  },
  {
   "cell_type": "code",
   "execution_count": 34,
   "metadata": {},
   "outputs": [
    {
     "name": "stdout",
     "output_type": "stream",
     "text": [
      "s = [ 0 -9]\n",
      "d = [10 13]\n"
     ]
    }
   ],
   "source": [
    "#1.3.2\n",
    "x = np.array([5, 2])\n",
    "y = np.array([-5, -11])\n",
    "print('s =', x + y)\n",
    "print('d =', x - y)"
   ]
  },
  {
   "cell_type": "code",
   "execution_count": 35,
   "metadata": {},
   "outputs": [
    {
     "name": "stdout",
     "output_type": "stream",
     "text": [
      "g_profit [144. 216. 180.]\n",
      "all_profit [394. 496. 400.]\n"
     ]
    }
   ],
   "source": [
    "#1.3.3\n",
    "a = np.array([120, 150, 90])\n",
    "w = np.array([130, 130, 130])\n",
    "g = np.array([2, 3, 2.5])\n",
    "rate = 72\n",
    "\n",
    "g_profit = g * rate\n",
    "all_profit = a + w + g_profit\n",
    "print('g_profit', g_profit)\n",
    "print('all_profit', all_profit)"
   ]
  },
  {
   "cell_type": "markdown",
   "metadata": {},
   "source": [
    "### Линейная комбинация векторов\n",
    "Линейная комбинация это объединение двух предыдущих операций в одну: каждый вектор умножается на соответствующий ему коэффициент, все умноженные векторы складываются.\n",
    "#### Определение\n",
    "Линейная комбинация - это сумма векторов, умноженных на некоторые числа.\n",
    "\n",
    "Пример:\n",
    "\n",
    "Найдите линейную комбинацию трех заданных векторов p = [2,4,5], v = [8, 10, 2], s = [0, 12, 7] с коэффициентами 500, 100 и 0"
   ]
  },
  {
   "cell_type": "code",
   "execution_count": 36,
   "metadata": {},
   "outputs": [
    {
     "name": "stdout",
     "output_type": "stream",
     "text": [
      "[1800 3000 2700]\n"
     ]
    }
   ],
   "source": [
    "p = np.array([2, 4, 5])\n",
    "v = np.array([8, 10, 2])\n",
    "s = np.array([0, 12, 7])\n",
    "\n",
    "m = 500 * p + 100 * v + 0 * s\n",
    "print(m)"
   ]
  },
  {
   "cell_type": "markdown",
   "metadata": {},
   "source": [
    "### Нулевая линейная комбинация\n",
    "Самое интересное в линейных комбинциях - это особые случаи.\n",
    "\n",
    "Из заданного набора векторов можно получить нулевую линейную комбинацию, умножив каждый вектор на ноль. Такие комбинации называются тривиальными.\n",
    "\n",
    "#### Определение:\n",
    "Линейная комбинация называется тривиальной, если все коэффициенты равны нулю. (Сумма векторов умноженная на некоторые числа называется тривиальной, если все коэффициенты равны нулю)\n",
    "\n",
    "Далее мы будем рассматривать только нетривиальные линейные комбинации, в которых не все коэффициенты равны нулю\n",
    "\n",
    "#### Определение:\n",
    "Линейная комбинация называется нетривиальной, если хотя бы один из коэффициентов не равен нулю.\n",
    "\n",
    "### Можно ли получить нулевой вектор?:\n",
    "- Да\n",
    "Пусть из заданного набора векторов нам удалось составить нулевую нетривиальную линейную комбинацию.\n",
    "\n",
    "#### Определение:\n",
    "Векторы называются линейно зависимыми, если существует нулевая нетривиальная комбинация этих векторов\n",
    "\n",
    "- Нет\n",
    "Вариант второй, пусть из заданного набора векторов нам не удалось составить нулевую нетривиальную линейную комбинацию.\n",
    "#### Определение:\n",
    "Векторы называются линейно независимыми, если не существует нулевой нетривиальной комбинации этих векторов.\n",
    "\n",
    "При этом ни один вектор не выражается через другие векторы.\n",
    "\n",
    "Пример 1\n",
    "\n",
    "Можно ли представить вектор x = [3, 4, 0] в виде линейной комбинации векторов a = [1, 1, 0] & b = [1, 2, 0]\n",
    "\n",
    "Решение:\n",
    "\n",
    "Легко заметить, что удвоенный первый вектор + второй дают ровно вектор x\n"
   ]
  },
  {
   "cell_type": "code",
   "execution_count": 40,
   "metadata": {},
   "outputs": [
    {
     "name": "stdout",
     "output_type": "stream",
     "text": [
      "[7 7]\n"
     ]
    }
   ],
   "source": [
    "# 1.4.1\n",
    "x = np.array([4, 5])\n",
    "y = np.array([2, 1])\n",
    "u = np.array([1, 0])\n",
    "print(2 * x + (-3) * y + 5 * u)\n",
    "m = [2, -3, 5]\n",
    "# print(np.array([x, y, u]) * m)"
   ]
  },
  {
   "cell_type": "code",
   "execution_count": 41,
   "metadata": {},
   "outputs": [
    {
     "name": "stdout",
     "output_type": "stream",
     "text": [
      "[-200 1200  200  600]\n"
     ]
    }
   ],
   "source": [
    "# 1.4.2\n",
    "prod = np.array([3, 4, 5, 9])\n",
    "sales = np.array([1, 5, 3, 6])\n",
    "print(-200 * prod + 400 * sales)"
   ]
  },
  {
   "cell_type": "code",
   "execution_count": 46,
   "metadata": {},
   "outputs": [
    {
     "data": {
      "text/plain": [
       "array([0, 0])"
      ]
     },
     "execution_count": 46,
     "metadata": {},
     "output_type": "execute_result"
    }
   ],
   "source": [
    "# @Илья\n",
    "v0 = np.array([-3, -2])\n",
    "v1 = np.array([1, 1])\n",
    "v2 = np.array([4, 3])\n",
    "\n",
    "c0 = 1\n",
    "c1 = -1\n",
    "c2 = 1\n",
    "\n",
    "v0 * c0 + v1 * c1 + v2 * c2"
   ]
  },
  {
   "cell_type": "markdown",
   "metadata": {},
   "source": [
    "## 1.5 Скалярное произведение векторов\n",
    "Существует 4 основных способа умножить векторы:\n",
    "1. Скалярное произведение. Результат - число.\n",
    "2. Векторное произведение. Результат - вектор.\n",
    "3. Смешанное произведение. Результат - число.\n",
    "4. Тензорное произведение. Результат - матрица.\n",
    "\n",
    "Чтобы найти скалярное произведение двух векторов, необходимо перемножить их координаты с одинаковыми номерами и сложить то, что получится.\n",
    "\n",
    "Пример\n",
    "\n",
    "Найти скалярное произведение векторов a=[65, 70, 120, 30] & w=[0.4, 0.4, 0.2, 0.8]\n",
    "\n",
    "Решение:\n",
    "(a[0] * w[0]) + (a[1] * w[1]) + (a[2] * w[2]) + (a[3] * w[3])"
   ]
  },
  {
   "cell_type": "code",
   "execution_count": 44,
   "metadata": {},
   "outputs": [
    {
     "name": "stdout",
     "output_type": "stream",
     "text": [
      "102.0\n"
     ]
    },
    {
     "data": {
      "text/plain": [
       "102.0"
      ]
     },
     "execution_count": 44,
     "metadata": {},
     "output_type": "execute_result"
    }
   ],
   "source": [
    "a = np.array([65, 70, 120, 30])\n",
    "w = np.array([0.4, 0.4, 0.2, 0.8])\n",
    "print(a[0]*w[0] + a[1]*w[1] + a[2]*w[2] + a[3]*w[3])\n",
    "np.dot(a,w)"
   ]
  },
  {
   "cell_type": "markdown",
   "metadata": {},
   "source": [
    "Задача из жизни:\n",
    "\n",
    "Агент за неделю закрыл 4 сделки на суммы 65, 70, 120 и 30 т.р. Комиссия по каждой составила 40%, 40%, 20% и 80% соответственно. Сколько заработал агент за эти 4 сделки."
   ]
  },
  {
   "cell_type": "markdown",
   "metadata": {},
   "source": [
    "### Длина вектора\n",
    "Для приложений нам так же понадобится вычислять длину вектора.\n",
    "\n",
    "Длина вектора вычисляется как квадратный корень из скалярного произведения вектора с самим собой. Для нас это просто корень из суммы квадратов координат, как в теореме Пифагора - для случая с размерностью вектора равной двум (геометрически это длина отрезка).\n",
    "\n",
    "Пример:\n",
    "\n",
    "Найти длину векторов a = [3, 4], b = [-1, 1, 2, 0]"
   ]
  },
  {
   "cell_type": "code",
   "execution_count": 48,
   "metadata": {},
   "outputs": [
    {
     "data": {
      "text/plain": [
       "5.0"
      ]
     },
     "execution_count": 48,
     "metadata": {},
     "output_type": "execute_result"
    }
   ],
   "source": [
    "a = np.array([3, 4])\n",
    "(np.dot(a, a)) ** 0.5"
   ]
  },
  {
   "cell_type": "code",
   "execution_count": 91,
   "metadata": {},
   "outputs": [
    {
     "data": {
      "text/plain": [
       "2.449489742783178"
      ]
     },
     "execution_count": 91,
     "metadata": {},
     "output_type": "execute_result"
    }
   ],
   "source": [
    "b = np.array([-1, 1, 2, 0])\n",
    "(np.dot(b, b)) ** 0.5"
   ]
  },
  {
   "cell_type": "code",
   "execution_count": 50,
   "metadata": {},
   "outputs": [
    {
     "data": {
      "text/plain": [
       "2.449489742783178"
      ]
     },
     "execution_count": 50,
     "metadata": {},
     "output_type": "execute_result"
    }
   ],
   "source": [
    "6 ** 0.5"
   ]
  },
  {
   "cell_type": "markdown",
   "metadata": {},
   "source": [
    "Чтобы получить длину вектора понятное дело вовсе не нужно проделывать всю эту хуиту. Для этого поняттное дело в numpy есть специальный метод."
   ]
  },
  {
   "cell_type": "code",
   "execution_count": 92,
   "metadata": {},
   "outputs": [
    {
     "data": {
      "text/plain": [
       "2.449489742783178"
      ]
     },
     "execution_count": 92,
     "metadata": {},
     "output_type": "execute_result"
    }
   ],
   "source": [
    "l = np.linalg.norm(b)\n",
    "l"
   ]
  },
  {
   "cell_type": "markdown",
   "metadata": {},
   "source": [
    "### Особый случай. Ортогональность векторов\n",
    "Векторы называются ортогональными, если их скалярное произведение равно нулю.\n",
    "\n",
    "Пример\n",
    "\n",
    "Найти скалярное произведение векторов (2, 3) и (-9, 6) Что означает полученный результат?"
   ]
  },
  {
   "cell_type": "code",
   "execution_count": 51,
   "metadata": {},
   "outputs": [
    {
     "data": {
      "text/plain": [
       "array([-18,  18])"
      ]
     },
     "execution_count": 51,
     "metadata": {},
     "output_type": "execute_result"
    }
   ],
   "source": [
    "a = np.array([2, 3])\n",
    "b = np.array([-9, 6])\n",
    "a * b"
   ]
  },
  {
   "cell_type": "code",
   "execution_count": 52,
   "metadata": {},
   "outputs": [
    {
     "data": {
      "text/plain": [
       "0"
      ]
     },
     "execution_count": 52,
     "metadata": {},
     "output_type": "execute_result"
    }
   ],
   "source": [
    "np.dot(a, b)"
   ]
  },
  {
   "cell_type": "code",
   "execution_count": 53,
   "metadata": {},
   "outputs": [
    {
     "data": {
      "text/plain": [
       "7"
      ]
     },
     "execution_count": 53,
     "metadata": {},
     "output_type": "execute_result"
    }
   ],
   "source": [
    "x = np.array([4, 5, -1])\n",
    "y = np.array([2, 0, 1])\n",
    "np.dot(x, y)"
   ]
  },
  {
   "cell_type": "code",
   "execution_count": 54,
   "metadata": {},
   "outputs": [
    {
     "data": {
      "text/plain": [
       "7.280109889280518"
      ]
     },
     "execution_count": 54,
     "metadata": {},
     "output_type": "execute_result"
    }
   ],
   "source": [
    "# 1.5.4\n",
    "x = np.array([4, 6, 1])\n",
    "(np.dot(x, x)) ** 0.5"
   ]
  },
  {
   "cell_type": "code",
   "execution_count": 57,
   "metadata": {},
   "outputs": [
    {
     "name": "stdout",
     "output_type": "stream",
     "text": [
      "0\n",
      "1\n",
      "0\n",
      "1\n"
     ]
    }
   ],
   "source": [
    "# 1.5.5\n",
    "# Какие пары векторов являются ортогональными?\n",
    "x = np.array([4, 2, -1])\n",
    "y = np.array([2, 0, 1])\n",
    "print(1 if np.dot(x,y) == 0 else 0)\n",
    "\n",
    "x = np.array([4, 5, -1])\n",
    "y = np.array([0, 0, 0])\n",
    "print(1 if np.dot(x,y) == 0 else 0)\n",
    "\n",
    "x = np.array([4, -1])\n",
    "y = np.array([-1, 4])\n",
    "print(1 if np.dot(x,y) == 0 else 0)\n",
    "\n",
    "x = np.array([4,-1])\n",
    "y = np.array([1, 4])\n",
    "print(1 if np.dot(x,y) == 0 else 0)"
   ]
  },
  {
   "cell_type": "markdown",
   "metadata": {},
   "source": [
    "## 1.6. Векторы. Практическая задача.\n",
    "Агентство \"Рай в шалаше\" недавно сдало 4 квартиры в одном доме. \n",
    "Общая площадь квартир: 33, 42, 33 и 65 кв м. \n",
    "Жилая площадь: 24, 32, 20, 48\n",
    "Арендная плата: 39, 50, 38, 77\n",
    "\n",
    "В том же доме появилась новая квартира общей площадью 50 кв м., из которых жилая - 40 кв м.\n",
    "\n",
    "На основе имеющихся данных выберите оптимальную арендную плату для новой квартиры."
   ]
  },
  {
   "cell_type": "code",
   "execution_count": 59,
   "metadata": {},
   "outputs": [],
   "source": [
    "total = np.array([33, 42, 33, 65])\n",
    "living = np.array([24, 32, 20, 48])\n",
    "price = np.array([39, 50, 38, 77])"
   ]
  },
  {
   "cell_type": "markdown",
   "metadata": {},
   "source": [
    "Нам нужно порекомендовать для новой квартиры оптимальную арендную плату, исходя из опыта предыдущих 4 квартир. Ключем к решению является линейная зависимость векторов: можно заметить, что price линейно выражается через total_area + 0.25 * living_area (Интересно как это блядь можно заметить?)"
   ]
  },
  {
   "cell_type": "markdown",
   "metadata": {},
   "source": [
    "Задача (условие №2)\n",
    "\n",
    "Пусть во второй квартире обнаружились тараканы, и ее пришлось сдать дешевле: за 48460 рублей, а в первой и третьей квартирах был застеклен балкон, и их удалось сдать дороже: за 40 000 и за 39 000 рублей.\n",
    "\n",
    "Теперь вектор арендной платы не выражается линейно через векторы площадей."
   ]
  },
  {
   "cell_type": "code",
   "execution_count": 60,
   "metadata": {},
   "outputs": [],
   "source": [
    "total = np.array([33, 42, 33, 65])\n",
    "living = np.array([24, 32, 20, 48])\n",
    "price = np.array([40, 48.46, 39, 77])"
   ]
  },
  {
   "cell_type": "markdown",
   "metadata": {},
   "source": [
    "Скалярное произведение равно нулю, это значит, что угол между векторами price и вектором разницы в цене... Нихуя не понятно.\n",
    "\n",
    "Это значит, что среди всех возможных линейных комбинаций векторов общей и жилой площади наш изначальный price - наилучший прогноз арендной платы. Другими словами, если другой информации нет, то 60 тысяч рублей, которые мы получили в первом условии задачи и есть наш лучший прогноз стоимости аренды новой квартиры."
   ]
  },
  {
   "cell_type": "markdown",
   "metadata": {},
   "source": [
    "**Резюмируем:**\n",
    "мы построили простейшую линейную регрессию стоимости аренды жилья по зашумленным данным, представленным в векторе \n",
    "\n",
    "**Задача (условие №3)**\n",
    "<...> Пусть появилась дополнительная информация - нежилая площадь. Позволит ли она улучшить прогноз по аренде новой квартиры?\n",
    "\n",
    "Нихуя!!!\n",
    "\n"
   ]
  },
  {
   "cell_type": "markdown",
   "metadata": {},
   "source": [
    "**Нормирование вектора** - получение вектора с тем же направлением, что и исходный, но с нормой 1.\n",
    "\n",
    "**Норма** вектора вычисляется как корень из суммы квадратов его компонент."
   ]
  },
  {
   "cell_type": "code",
   "execution_count": 62,
   "metadata": {},
   "outputs": [],
   "source": [
    "import pandas as pd\n",
    "Hut_Paradise_DF = pd.DataFrame({'1.Rent': [65, 70, 120, 35, 40, 50, 100, 90, 85], \n",
    "                                '2.Area': [50, 52, 80, 33, 33, 44, 80, 65, 65], \n",
    "                                '3.Rooms':[3, 2, 1, 1, 1, 2, 4, 3, 2],\n",
    "                                '4.Floor':[5, 12, 10, 3, 6, 13, 8, 21, 5], \n",
    "                                '5.Demo two weeks':[8, 4, 5, 10, 20, 12, 5, 1, 10], \n",
    "                                '6.Liv.Area': [37, 40, 65, 20, 16, 35, 60, 50, 40]})\n"
   ]
  },
  {
   "cell_type": "code",
   "execution_count": 70,
   "metadata": {},
   "outputs": [
    {
     "data": {
      "text/plain": [
       "1.Rent              40\n",
       "2.Area              33\n",
       "3.Rooms              1\n",
       "4.Floor              6\n",
       "5.Demo two weeks    20\n",
       "6.Liv.Area          16\n",
       "Name: 4, dtype: int64"
      ]
     },
     "metadata": {},
     "output_type": "display_data"
    },
    {
     "data": {
      "text/plain": [
       "array([[40, 33,  1,  6, 20, 16]])"
      ]
     },
     "metadata": {},
     "output_type": "display_data"
    }
   ],
   "source": [
    "# 1.7.1\n",
    "display(Hut_Paradise_DF.loc[4])\n",
    "display(Hut_Paradise_DF.values[4:5])\n",
    "\n"
   ]
  },
  {
   "cell_type": "code",
   "execution_count": 73,
   "metadata": {},
   "outputs": [
    {
     "data": {
      "text/plain": [
       "array([ 5, 12, 10,  3,  6, 13,  8, 21,  5])"
      ]
     },
     "execution_count": 73,
     "metadata": {},
     "output_type": "execute_result"
    }
   ],
   "source": [
    "# 1.7.2\n",
    "Hut_Paradise_DF['4.Floor'].values"
   ]
  },
  {
   "cell_type": "code",
   "execution_count": 75,
   "metadata": {},
   "outputs": [
    {
     "data": {
      "text/plain": [
       "1.Rent              9\n",
       "2.Area              9\n",
       "3.Rooms             9\n",
       "4.Floor             9\n",
       "5.Demo two weeks    9\n",
       "6.Liv.Area          9\n",
       "dtype: int64"
      ]
     },
     "execution_count": 75,
     "metadata": {},
     "output_type": "execute_result"
    }
   ],
   "source": [
    "# 1.7.4\n",
    "Hut_Paradise_DF.count()"
   ]
  },
  {
   "cell_type": "code",
   "execution_count": 76,
   "metadata": {},
   "outputs": [
    {
     "data": {
      "text/plain": [
       "array([13, 12, 15, 13, 17,  9, 20, 15, 25])"
      ]
     },
     "execution_count": 76,
     "metadata": {},
     "output_type": "execute_result"
    }
   ],
   "source": [
    "# 1.7.5\n",
    "Hut_Paradise_DF['2.Area'].values - Hut_Paradise_DF['6.Liv.Area'].values"
   ]
  },
  {
   "cell_type": "code",
   "execution_count": 81,
   "metadata": {},
   "outputs": [
    {
     "data": {
      "text/plain": [
       "array([26., 28., 48., 14., 16., 20., 40., 36., 34.])"
      ]
     },
     "execution_count": 81,
     "metadata": {},
     "output_type": "execute_result"
    }
   ],
   "source": [
    "# 1.7.6\n",
    "Hut_Paradise_DF['1.Rent'].values * 4 / 10"
   ]
  },
  {
   "cell_type": "code",
   "execution_count": 82,
   "metadata": {},
   "outputs": [
    {
     "data": {
      "text/plain": [
       "1348"
      ]
     },
     "execution_count": 82,
     "metadata": {},
     "output_type": "execute_result"
    }
   ],
   "source": [
    "# 1.7.7\n",
    "dur = np.array([10, 20, 30, 15, 5, 40, 20, 8, 20])\n",
    "np.dot(dur,Hut_Paradise_DF['5.Demo two weeks'].values)"
   ]
  },
  {
   "cell_type": "code",
   "execution_count": 83,
   "metadata": {},
   "outputs": [],
   "source": [
    "u = np.array([3, 0, 1, 1, 1])\n",
    "v = np.array([0, 1, 0, 2, -2])\n",
    "w = np.array([1, -4, -1, 0, -2])"
   ]
  },
  {
   "cell_type": "code",
   "execution_count": 88,
   "metadata": {},
   "outputs": [
    {
     "data": {
      "text/plain": [
       "array([-3, 14,  3,  4,  2])"
      ]
     },
     "metadata": {},
     "output_type": "display_data"
    }
   ],
   "source": [
    "# 1.7.8\n",
    "# Линейная комбинация - умножение на чилсо и сложение\n",
    "c = v * 2 + w * (-3)\n",
    "display(c)"
   ]
  },
  {
   "cell_type": "code",
   "execution_count": 89,
   "metadata": {},
   "outputs": [
    {
     "data": {
      "text/plain": [
       "0"
      ]
     },
     "execution_count": 89,
     "metadata": {},
     "output_type": "execute_result"
    }
   ],
   "source": [
    "# 1.7.9\n",
    "# Векторы называются ортогональными если их скалярное произведение равно 0\n",
    "np.dot(c, u)"
   ]
  },
  {
   "cell_type": "markdown",
   "metadata": {},
   "source": [
    "**Нормировка** - вектор деленный на его длину.\n",
    "(Длину вектора можно получить методом numpy - np.linalg.norm(v))"
   ]
  },
  {
   "cell_type": "code",
   "execution_count": 94,
   "metadata": {},
   "outputs": [
    {
     "name": "stdout",
     "output_type": "stream",
     "text": [
      "0.2886751345948129\n",
      "0.6666666666666666\n",
      "0.21320071635561041\n"
     ]
    }
   ],
   "source": [
    "# 1.7.10\n",
    "u_norm = u/np.linalg.norm(u)\n",
    "v_norm = v/np.linalg.norm(v)\n",
    "w_norm = w/np.linalg.norm(w)\n",
    "\n",
    "print(u_norm[2])\n",
    "print(v_norm[3])\n",
    "print(w_norm[0])"
   ]
  },
  {
   "cell_type": "markdown",
   "metadata": {},
   "source": [
    "# 1.8 Матрицы\n",
    "\n",
    "## Основные понятия\n",
    "\n",
    "**Определение:**\n",
    "\n",
    "Матрица представляет собой набор чисел, расположенных по строкам и столбцам, как в таблице.\n",
    "\n",
    "Матрицу можно создать командой **.matrix** или **.array**. Размер матрицы можно получить обратившись к свойству **shape**.\n",
    "\n",
    "Помним, что матрицы, как и массивы индексируются с 0. Поэтому для вызова a23 нужно обратиться к элементу матрицы с номерами 12"
   ]
  },
  {
   "cell_type": "code",
   "execution_count": 95,
   "metadata": {},
   "outputs": [
    {
     "data": {
      "text/plain": [
       "array([[ 1, -5,  3],\n",
       "       [ 2,  2,  1],\n",
       "       [ 0,  3,  1],\n",
       "       [ 2,  4, 12]])"
      ]
     },
     "execution_count": 95,
     "metadata": {},
     "output_type": "execute_result"
    }
   ],
   "source": [
    "# Example\n",
    "import numpy as np\n",
    "A = np.array([[1,-5,3],[2,2,1],[0,3,1],[2,4,12]])\n",
    "A"
   ]
  },
  {
   "cell_type": "code",
   "execution_count": 96,
   "metadata": {},
   "outputs": [
    {
     "data": {
      "text/plain": [
       "(4, 3)"
      ]
     },
     "execution_count": 96,
     "metadata": {},
     "output_type": "execute_result"
    }
   ],
   "source": [
    "A.shape"
   ]
  },
  {
   "cell_type": "code",
   "execution_count": 97,
   "metadata": {},
   "outputs": [
    {
     "data": {
      "text/plain": [
       "matrix([[ 1, -5],\n",
       "        [ 2,  2],\n",
       "        [ 0,  3]])"
      ]
     },
     "execution_count": 97,
     "metadata": {},
     "output_type": "execute_result"
    }
   ],
   "source": [
    "# Transposition\n",
    "import numpy as np\n",
    "A = np.matrix(\"1,-5;2,2;0,3\")\n",
    "A"
   ]
  },
  {
   "cell_type": "code",
   "execution_count": 98,
   "metadata": {},
   "outputs": [
    {
     "data": {
      "text/plain": [
       "matrix([[ 1,  2,  0],\n",
       "        [-5,  2,  3]])"
      ]
     },
     "execution_count": 98,
     "metadata": {},
     "output_type": "execute_result"
    }
   ],
   "source": [
    "A.T"
   ]
  },
  {
   "cell_type": "code",
   "execution_count": 99,
   "metadata": {},
   "outputs": [
    {
     "data": {
      "text/plain": [
       "matrix([[ 1, -5],\n",
       "        [ 2,  2],\n",
       "        [ 0,  3]])"
      ]
     },
     "execution_count": 99,
     "metadata": {},
     "output_type": "execute_result"
    }
   ],
   "source": [
    "A"
   ]
  },
  {
   "cell_type": "code",
   "execution_count": 100,
   "metadata": {},
   "outputs": [
    {
     "data": {
      "text/plain": [
       "matrix([[ 7,  2],\n",
       "        [ 0, 12]])"
      ]
     },
     "execution_count": 100,
     "metadata": {},
     "output_type": "execute_result"
    }
   ],
   "source": [
    "# 1.9.1\n",
    "import numpy as np\n",
    "A = np.matrix(\"1,1;5,7\")\n",
    "B = np.matrix(\"6,1;-5,5\")\n",
    "A + B"
   ]
  },
  {
   "cell_type": "markdown",
   "metadata": {},
   "source": [
    "* Диагональная матрица является инвариантом транспонирования.\n",
    "* Если вычесть из диагональной матрицы единичную, поменяется только главная диагональ.\n",
    "* Все столбцы диагональной матрицы ортогональны друг другу."
   ]
  },
  {
   "cell_type": "markdown",
   "metadata": {},
   "source": [
    "## 1.10 Практика. Базовые действия над матрицами"
   ]
  },
  {
   "cell_type": "code",
   "execution_count": 101,
   "metadata": {},
   "outputs": [],
   "source": [
    "import numpy as np"
   ]
  },
  {
   "cell_type": "code",
   "execution_count": 103,
   "metadata": {},
   "outputs": [
    {
     "data": {
      "text/plain": [
       "array([[1, 1],\n",
       "       [2, 3],\n",
       "       [4, 5]])"
      ]
     },
     "execution_count": 103,
     "metadata": {},
     "output_type": "execute_result"
    }
   ],
   "source": [
    "# Как двумерный массив numpy\n",
    "np.array([[1,1],[2,3],[4,5]])"
   ]
  },
  {
   "cell_type": "code",
   "execution_count": 104,
   "metadata": {},
   "outputs": [
    {
     "name": "stdout",
     "output_type": "stream",
     "text": [
      "dataframe:\n"
     ]
    },
    {
     "data": {
      "text/html": [
       "<div>\n",
       "<style scoped>\n",
       "    .dataframe tbody tr th:only-of-type {\n",
       "        vertical-align: middle;\n",
       "    }\n",
       "\n",
       "    .dataframe tbody tr th {\n",
       "        vertical-align: top;\n",
       "    }\n",
       "\n",
       "    .dataframe thead th {\n",
       "        text-align: right;\n",
       "    }\n",
       "</style>\n",
       "<table border=\"1\" class=\"dataframe\">\n",
       "  <thead>\n",
       "    <tr style=\"text-align: right;\">\n",
       "      <th></th>\n",
       "      <th>0</th>\n",
       "      <th>1</th>\n",
       "      <th>2</th>\n",
       "    </tr>\n",
       "  </thead>\n",
       "  <tbody>\n",
       "    <tr>\n",
       "      <td>0</td>\n",
       "      <td>1</td>\n",
       "      <td>2</td>\n",
       "      <td>3</td>\n",
       "    </tr>\n",
       "    <tr>\n",
       "      <td>1</td>\n",
       "      <td>4</td>\n",
       "      <td>5</td>\n",
       "      <td>6</td>\n",
       "    </tr>\n",
       "    <tr>\n",
       "      <td>2</td>\n",
       "      <td>7</td>\n",
       "      <td>8</td>\n",
       "      <td>9</td>\n",
       "    </tr>\n",
       "    <tr>\n",
       "      <td>3</td>\n",
       "      <td>10</td>\n",
       "      <td>11</td>\n",
       "      <td>12</td>\n",
       "    </tr>\n",
       "  </tbody>\n",
       "</table>\n",
       "</div>"
      ],
      "text/plain": [
       "    0   1   2\n",
       "0   1   2   3\n",
       "1   4   5   6\n",
       "2   7   8   9\n",
       "3  10  11  12"
      ]
     },
     "metadata": {},
     "output_type": "display_data"
    },
    {
     "name": "stdout",
     "output_type": "stream",
     "text": [
      "matrix:\n"
     ]
    },
    {
     "data": {
      "text/plain": [
       "array([[ 1,  2,  3],\n",
       "       [ 4,  5,  6],\n",
       "       [ 7,  8,  9],\n",
       "       [10, 11, 12]])"
      ]
     },
     "metadata": {},
     "output_type": "display_data"
    }
   ],
   "source": [
    "# Преобразование из pandas dataframe\n",
    "import pandas as pd\n",
    "\n",
    "data = [[1,2,3],[4,5,6],[7,8,9],[10,11,12]]\n",
    "df = pd.DataFrame(data)\n",
    "\n",
    "A = df.values\n",
    "\n",
    "print('dataframe:')\n",
    "display(df)\n",
    "print('matrix:')\n",
    "display(A)"
   ]
  },
  {
   "cell_type": "code",
   "execution_count": 105,
   "metadata": {},
   "outputs": [
    {
     "name": "stdout",
     "output_type": "stream",
     "text": [
      "np.shape(A)\n",
      "(4, 3)\n",
      "A.shape\n",
      "(4, 3)\n"
     ]
    }
   ],
   "source": [
    "# размер матрицы\n",
    "\n",
    "print('np.shape(A)')\n",
    "print(np.shape(A))\n",
    "print('A.shape')\n",
    "print(A.shape)"
   ]
  },
  {
   "cell_type": "code",
   "execution_count": 106,
   "metadata": {},
   "outputs": [
    {
     "data": {
      "text/plain": [
       "array([[1],\n",
       "       [2],\n",
       "       [3]])"
      ]
     },
     "execution_count": 106,
     "metadata": {},
     "output_type": "execute_result"
    }
   ],
   "source": [
    "# вектор-столбец\n",
    "x = np.array([1,2,3])\n",
    "np.reshape(x,(3,1))"
   ]
  },
  {
   "cell_type": "code",
   "execution_count": 107,
   "metadata": {},
   "outputs": [
    {
     "data": {
      "text/plain": [
       "array([[1, 2, 3]])"
      ]
     },
     "execution_count": 107,
     "metadata": {},
     "output_type": "execute_result"
    }
   ],
   "source": [
    "x.reshape(1,3)"
   ]
  },
  {
   "cell_type": "code",
   "execution_count": 108,
   "metadata": {},
   "outputs": [
    {
     "data": {
      "text/plain": [
       "array([1, 2, 3])"
      ]
     },
     "execution_count": 108,
     "metadata": {},
     "output_type": "execute_result"
    }
   ],
   "source": [
    "x"
   ]
  },
  {
   "cell_type": "code",
   "execution_count": 109,
   "metadata": {},
   "outputs": [
    {
     "name": "stdout",
     "output_type": "stream",
     "text": [
      "матрица А\n",
      "[[ 1  2  3]\n",
      " [ 4  5  6]\n",
      " [ 7  8  9]\n",
      " [10 11 12]]\n",
      "the first row of a matrix A:\n",
      "[1 2 3]\n",
      "the third column of a matrix A\n",
      "[ 3  6  9 12]\n",
      "item a_43\n",
      "12\n"
     ]
    }
   ],
   "source": [
    "# Индексация матриц (двумерных массивов numpy)\n",
    "print('матрица А')\n",
    "print(A)\n",
    "print('the first row of a matrix A:')\n",
    "print(A[0])\n",
    "print('the third column of a matrix A')\n",
    "print(A[:,2])\n",
    "print('item a_43')\n",
    "print(A[3,2])"
   ]
  },
  {
   "cell_type": "code",
   "execution_count": 110,
   "metadata": {},
   "outputs": [],
   "source": [
    "# Creating of special matrix"
   ]
  },
  {
   "cell_type": "code",
   "execution_count": 111,
   "metadata": {},
   "outputs": [
    {
     "data": {
      "text/plain": [
       "array([[0., 0., 0.],\n",
       "       [0., 0., 0.]])"
      ]
     },
     "execution_count": 111,
     "metadata": {},
     "output_type": "execute_result"
    }
   ],
   "source": [
    "# нулевая\n",
    "np.zeros((2,3))"
   ]
  },
  {
   "cell_type": "code",
   "execution_count": 112,
   "metadata": {},
   "outputs": [
    {
     "data": {
      "text/plain": [
       "array([[1., 0., 0.],\n",
       "       [0., 1., 0.],\n",
       "       [0., 0., 1.]])"
      ]
     },
     "execution_count": 112,
     "metadata": {},
     "output_type": "execute_result"
    }
   ],
   "source": [
    "# единичная\n",
    "np.eye(3)"
   ]
  },
  {
   "cell_type": "code",
   "execution_count": 113,
   "metadata": {},
   "outputs": [
    {
     "data": {
      "text/plain": [
       "array([[1., 1., 1., 1., 1.],\n",
       "       [1., 1., 1., 1., 1.],\n",
       "       [1., 1., 1., 1., 1.]])"
      ]
     },
     "execution_count": 113,
     "metadata": {},
     "output_type": "execute_result"
    }
   ],
   "source": [
    "# матрица единиц\n",
    "np.ones((3,5))"
   ]
  },
  {
   "cell_type": "code",
   "execution_count": 114,
   "metadata": {},
   "outputs": [
    {
     "data": {
      "text/plain": [
       "array([[1, 0, 0],\n",
       "       [0, 2, 0],\n",
       "       [0, 0, 3]])"
      ]
     },
     "execution_count": 114,
     "metadata": {},
     "output_type": "execute_result"
    }
   ],
   "source": [
    "# Диагональная\n",
    "diagonal = [1,2,3]\n",
    "np.diag(diagonal)"
   ]
  },
  {
   "cell_type": "code",
   "execution_count": 115,
   "metadata": {},
   "outputs": [
    {
     "data": {
      "text/plain": [
       "array([[5., 0., 0.],\n",
       "       [0., 5., 0.],\n",
       "       [0., 0., 5.]])"
      ]
     },
     "execution_count": 115,
     "metadata": {},
     "output_type": "execute_result"
    }
   ],
   "source": [
    "# Шаровая\n",
    "5*np.eye(3)"
   ]
  },
  {
   "cell_type": "code",
   "execution_count": 116,
   "metadata": {},
   "outputs": [],
   "source": [
    "Husband_income = np.array([100,220,140])\n",
    "Wife_income = np.array([150,200,130])\n",
    "Lover_income = np.array([90,80,100])\n",
    "\n",
    "Husband_consumption = np.array([50,50,60])\n",
    "Wife_consuption = np.array([100,80,140])\n",
    "Lover_consumption = np.array([100,20,140])\n"
   ]
  },
  {
   "cell_type": "code",
   "execution_count": 117,
   "metadata": {},
   "outputs": [
    {
     "data": {
      "text/plain": [
       "array([ 87. , 130.5,  78.3])"
      ]
     },
     "execution_count": 117,
     "metadata": {},
     "output_type": "execute_result"
    }
   ],
   "source": [
    "np.array([100,150,90])*0.87"
   ]
  },
  {
   "cell_type": "code",
   "execution_count": 120,
   "metadata": {},
   "outputs": [
    {
     "data": {
      "text/plain": [
       "array([[100, 150,  90],\n",
       "       [220, 200,  80],\n",
       "       [140, 130, 100]])"
      ]
     },
     "execution_count": 120,
     "metadata": {},
     "output_type": "execute_result"
    }
   ],
   "source": [
    "income = np.array([Husband_income, Wife_income, Lover_income]).T\n",
    "income"
   ]
  },
  {
   "cell_type": "code",
   "execution_count": 122,
   "metadata": {},
   "outputs": [
    {
     "data": {
      "text/plain": [
       "array([[ 87. , 130.5,  78.3],\n",
       "       [191.4, 174. ,  69.6],\n",
       "       [121.8, 113.1,  87. ]])"
      ]
     },
     "execution_count": 122,
     "metadata": {},
     "output_type": "execute_result"
    }
   ],
   "source": [
    "P = income * 0.87\n",
    "P"
   ]
  },
  {
   "cell_type": "code",
   "execution_count": 124,
   "metadata": {},
   "outputs": [
    {
     "data": {
      "text/plain": [
       "array([[ 50, 100, 100],\n",
       "       [ 50,  80,  20],\n",
       "       [ 60, 140, 140]])"
      ]
     },
     "execution_count": 124,
     "metadata": {},
     "output_type": "execute_result"
    }
   ],
   "source": [
    "consumption = np.array([Husband_consumption, Wife_consuption, Lover_consumption]).T\n",
    "consumption"
   ]
  },
  {
   "cell_type": "code",
   "execution_count": 126,
   "metadata": {},
   "outputs": [
    {
     "data": {
      "text/plain": [
       "array([[ 37. ,  30.5, -21.7],\n",
       "       [141.4,  94. ,  49.6],\n",
       "       [ 61.8, -26.9, -53. ]])"
      ]
     },
     "execution_count": 126,
     "metadata": {},
     "output_type": "execute_result"
    }
   ],
   "source": [
    "income * 0.87 - consumption"
   ]
  },
  {
   "cell_type": "markdown",
   "metadata": {},
   "source": [
    "## Умножение матриц"
   ]
  },
  {
   "cell_type": "code",
   "execution_count": 127,
   "metadata": {},
   "outputs": [],
   "source": [
    "import numpy as np\n",
    "A = np.matrix(\"1,-5;2,2;0,3\")\n",
    "B = np.matrix(\"3,1,0;-1,0, 2\")"
   ]
  },
  {
   "cell_type": "code",
   "execution_count": 128,
   "metadata": {},
   "outputs": [
    {
     "data": {
      "text/plain": [
       "matrix([[ 1, -5],\n",
       "        [ 2,  2],\n",
       "        [ 0,  3]])"
      ]
     },
     "execution_count": 128,
     "metadata": {},
     "output_type": "execute_result"
    }
   ],
   "source": [
    "A"
   ]
  },
  {
   "cell_type": "code",
   "execution_count": 129,
   "metadata": {},
   "outputs": [
    {
     "data": {
      "text/plain": [
       "matrix([[ 3,  1,  0],\n",
       "        [-1,  0,  2]])"
      ]
     },
     "execution_count": 129,
     "metadata": {},
     "output_type": "execute_result"
    }
   ],
   "source": [
    "B"
   ]
  },
  {
   "cell_type": "code",
   "execution_count": 130,
   "metadata": {},
   "outputs": [
    {
     "data": {
      "text/plain": [
       "matrix([[  8,   1, -10],\n",
       "        [  4,   2,   4],\n",
       "        [ -3,   0,   6]])"
      ]
     },
     "execution_count": 130,
     "metadata": {},
     "output_type": "execute_result"
    }
   ],
   "source": [
    "np.dot(A,B)"
   ]
  },
  {
   "cell_type": "code",
   "execution_count": 131,
   "metadata": {},
   "outputs": [
    {
     "data": {
      "text/plain": [
       "matrix([[  5, -13],\n",
       "        [ -1,  11]])"
      ]
     },
     "execution_count": 131,
     "metadata": {},
     "output_type": "execute_result"
    }
   ],
   "source": [
    "np.dot(B,A)"
   ]
  },
  {
   "cell_type": "markdown",
   "metadata": {},
   "source": [
    "## Тензорное умножение векторов"
   ]
  },
  {
   "cell_type": "code",
   "execution_count": 7,
   "metadata": {},
   "outputs": [
    {
     "name": "stdout",
     "output_type": "stream",
     "text": [
      "[4 5 6]\n",
      "[ 8 10 12]\n",
      "[[12 15 18]]\n"
     ]
    }
   ],
   "source": [
    "import numpy as np\n",
    "v = np.array([[1],[2],3])\n",
    "u = np.array([[4],[5],[6]])\n",
    "for e in v:\n",
    "    print(np.dot(e,u.T))"
   ]
  },
  {
   "cell_type": "markdown",
   "metadata": {},
   "source": [
    "## 1.12 Умножение на специальные матрицы\n",
    "1. На нулевую и единичную\n",
    "    - *Нулевая матрица это матрица m x n, все элементы которой равны нулю.*\n",
    "    - *Единичная матрица это квадратная матрица, элементы главной диагонали которой равны 1, а остальные 0.*\n",
    "2. На шаровую\n",
    "3. На диагональную"
   ]
  },
  {
   "cell_type": "code",
   "execution_count": 29,
   "metadata": {},
   "outputs": [
    {
     "name": "stdout",
     "output_type": "stream",
     "text": [
      "Поэлементное произведение\n",
      "[[ 1  4  9]\n",
      " [16  1  1]\n",
      " [ 0  4  1]]\n",
      "<class 'numpy.ndarray'>\n",
      "\n",
      "Скалярное произведение\n",
      "[[ 9 10  8]\n",
      " [ 8 11 14]\n",
      " [ 8  4  3]]\n",
      "<class 'numpy.ndarray'>\n",
      "\n",
      "Обычное произведение типов matrix дает скалярное произведение\n",
      "[[ 9 10  8]\n",
      " [ 8 11 14]\n",
      " [ 8  4  3]]\n",
      "<class 'numpy.matrix'>\n",
      "\n",
      "Умножение matrix и ndarray\n",
      "[[0 0 0]\n",
      " [0 0 0]\n",
      " [0 0 0]]\n",
      "<class 'numpy.matrix'>\n",
      "\n",
      "Умножение на нулевую матрицу всегда даст нулевую матрицу\n",
      "[[0 0 0]\n",
      " [0 0 0]\n",
      " [0 0 0]]\n",
      "<class 'numpy.matrix'>\n"
     ]
    }
   ],
   "source": [
    "# Умножение на нулевую матрицу.\n",
    "# Нулевая матрица это матрица m x n, все элементы которой равны 0\n",
    "\n",
    "import numpy as np\n",
    "\n",
    "A = np.array([[1,2,3],[4,1,1],[0,2,1]])\n",
    "A_m = np.matrix('1,2,3;4,1,1;0,2,1')\n",
    "\n",
    "N = np.zeros((3,3),dtype=int)\n",
    "N_m = np.matrix('0,0,0;0,0,0;0,0,0')\n",
    "\n",
    "print('Поэлементное произведение')\n",
    "print(A * A) # Поэлементное произведение\n",
    "print(type(A * A))\n",
    "\n",
    "print('\\nСкалярное произведение')\n",
    "print(np.dot(A, A)) # Скалярное произведение\n",
    "print(type(np.dot(A, A)))\n",
    "\n",
    "print('\\nОбычное произведение типов matrix дает скалярное произведение')\n",
    "print(A_m * A_m) # Скалярное произведение\n",
    "print(type(A_m * A_m))\n",
    "\n",
    "# Однако проверить таким образом произведение matrix и ndarray не удастся...\n",
    "print('\\nУмножение matrix и ndarray')\n",
    "print(A_m * N)  \n",
    "print(type(A_m * N))\n",
    "# Т.к. результат умножения matrix  \n",
    "\n",
    "print('\\nУмножение на нулевую матрицу всегда даст нулевую матрицу')\n",
    "print(A_m * N_m) # Скалярное произведение\n",
    "print(type(A_m * N_m))\n",
    "\n",
    "# Умножение на нулевую матрицу всегда даст нулевую матрицу."
   ]
  },
  {
   "cell_type": "code",
   "execution_count": 35,
   "metadata": {},
   "outputs": [
    {
     "data": {
      "text/plain": [
       "matrix([[1, 0, 0],\n",
       "        [0, 1, 0],\n",
       "        [0, 0, 1]])"
      ]
     },
     "execution_count": 35,
     "metadata": {},
     "output_type": "execute_result"
    }
   ],
   "source": [
    "# Умножение на единичную матрицу\n",
    "# Единичная матрица это квадратная матрица, у которой элементы главной диагонали равны 1, а остальные 0\n",
    "\n",
    "import numpy as np\n",
    "\n",
    "# В numpy единичную матрицу можно получить используя метод-конструктор np.eye(n), \n",
    "# где n размер матрицы (порядок, матрица то квадратная)\n",
    "\n",
    "N = np.eye(3)\n",
    "\n",
    "# однако N в таком случае имеет тип ndarray\n",
    "\n",
    "# Чтобы получить matrix воспользуемся методом-конструктором np.matrix \n",
    "# в параметр которого передадим полученный ndarray\n",
    "\n",
    "N = np.matrix(np.eye(3),dtype=int)\n",
    "\n",
    "# В результате получим объект типа matrix\n",
    "\n",
    "\n",
    "# Так же единичную матрицу можно получить используя конструктор\n",
    "# диагональных матриц np.diag()\n",
    "\n",
    "np.matrix(np.diag([1,1,1]))"
   ]
  },
  {
   "cell_type": "code",
   "execution_count": 46,
   "metadata": {},
   "outputs": [
    {
     "name": "stdout",
     "output_type": "stream",
     "text": [
      "7.41 µs ± 14.1 ns per loop (mean ± std. dev. of 7 runs, 100000 loops each)\n",
      "7.47 µs ± 26.4 ns per loop (mean ± std. dev. of 7 runs, 100000 loops each)\n",
      "7.39 µs ± 29.4 ns per loop (mean ± std. dev. of 7 runs, 100000 loops each)\n"
     ]
    }
   ],
   "source": [
    "for i in range(3):\n",
    "    %timeit np.matrix(np.eye(3,dtype=int))"
   ]
  },
  {
   "cell_type": "code",
   "execution_count": 42,
   "metadata": {},
   "outputs": [
    {
     "name": "stdout",
     "output_type": "stream",
     "text": [
      "10.3 µs ± 43.8 ns per loop (mean ± std. dev. of 7 runs, 100000 loops each)\n",
      "10.2 µs ± 65.3 ns per loop (mean ± std. dev. of 7 runs, 100000 loops each)\n",
      "10.4 µs ± 55.2 ns per loop (mean ± std. dev. of 7 runs, 100000 loops each)\n"
     ]
    }
   ],
   "source": [
    "for i in range(3):\n",
    "    %timeit np.matrix(np.diag([1,1,1]))"
   ]
  },
  {
   "cell_type": "code",
   "execution_count": 49,
   "metadata": {},
   "outputs": [
    {
     "name": "stdout",
     "output_type": "stream",
     "text": [
      "[[1 2 3]\n",
      " [4 1 1]\n",
      " [0 2 1]]\n",
      "\n",
      "Умножение на единичную матрицу\n",
      "[[1 2 3]\n",
      " [4 1 1]\n",
      " [0 2 1]]\n",
      "\n",
      "Умножение на шаровую матрицу\n",
      "[[2 4 6]\n",
      " [8 2 2]\n",
      " [0 4 2]]\n"
     ]
    }
   ],
   "source": [
    "\n",
    "A = np.matrix('1,2,3;4,1,1;0,2,1')\n",
    "E = np.matrix(np.eye(3,dtype=int))\n",
    "B = 2 * E\n",
    "print(A)\n",
    "print('\\nУмножение на единичную матрицу')\n",
    "print(A * E)\n",
    "print('\\nУмножение на шаровую матрицу')\n",
    "print(A * B)"
   ]
  },
  {
   "cell_type": "markdown",
   "metadata": {},
   "source": [
    "**Выводы:**\n",
    "* Единичная матрица (identity matrix) играет роль единицы в умножении. От умножения на нее результат не меняется.\n",
    "* При умножении на шаровую матрицу каждый элемент умножился на на 2, что равносильно умножению матрицы А на число 2\n",
    "* Единичная и шаровая матрица перестановочны с любой квадратной матрицей, результат не зависит от порядка умножения."
   ]
  },
  {
   "cell_type": "markdown",
   "metadata": {},
   "source": [
    "## Умножение на диагональную матрицу"
   ]
  },
  {
   "cell_type": "code",
   "execution_count": 53,
   "metadata": {},
   "outputs": [
    {
     "name": "stdout",
     "output_type": "stream",
     "text": [
      "Матрица А:\n",
      "[[1 2 3]\n",
      " [4 1 1]\n",
      " [0 2 1]]\n",
      "\n",
      "Матрица D:\n",
      "[[1 0 0]\n",
      " [0 2 0]\n",
      " [0 0 3]]\n",
      "\n",
      "Умножение на диагональную справа:\n",
      "[[1 4 9]\n",
      " [4 2 3]\n",
      " [0 4 3]]\n",
      "\n",
      "Умножение на диагональную слева:\n",
      "[[1 2 3]\n",
      " [8 2 2]\n",
      " [0 6 3]]\n"
     ]
    }
   ],
   "source": [
    "import numpy as np\n",
    "\n",
    "A = np.matrix('1,2,3;4,1,1;0,2,1')\n",
    "D = np.matrix(np.diag([1,2,3]))\n",
    "\n",
    "print('Матрица А:')\n",
    "print(A)\n",
    "\n",
    "print('\\nМатрица D:')\n",
    "print(D)\n",
    "\n",
    "print('\\nУмножение на диагональную справа:')\n",
    "print(A * D)\n",
    "\n",
    "print('\\nУмножение на диагональную слева:')\n",
    "print(D * A)"
   ]
  },
  {
   "cell_type": "markdown",
   "metadata": {},
   "source": [
    "**Вывод**\n",
    "- Когда диагональная справа, то происходит как бы поэлементное умножение по строкам.\n",
    "- Когда диагональная слева, то поэлементное умножение по столбцам."
   ]
  },
  {
   "cell_type": "markdown",
   "metadata": {},
   "source": [
    "## Умножение и транспонирование матриц"
   ]
  },
  {
   "cell_type": "markdown",
   "metadata": {},
   "source": [
    "При транспонировании матриц меняется порядок произведения:\n",
    "- (A * B).T = B.T * A.T\n",
    "- (A * B * C).T = (B * C).T * A.T = C.T * B.T * A.T"
   ]
  },
  {
   "cell_type": "markdown",
   "metadata": {},
   "source": [
    "**Матрица Грама**\n",
    "\n",
    "Матрицей Грама системы векторов называется матрица, составленная из их скалярных произведений."
   ]
  },
  {
   "cell_type": "code",
   "execution_count": 54,
   "metadata": {},
   "outputs": [
    {
     "name": "stdout",
     "output_type": "stream",
     "text": [
      "X * X.T\n",
      "[[ 2  3 -1]\n",
      " [ 3  5 -2]\n",
      " [-1 -2  1]]\n",
      "\n",
      "X.T * X\n",
      "[[2 3]\n",
      " [3 6]]\n"
     ]
    }
   ],
   "source": [
    "# Пример\n",
    "\n",
    "import numpy as np\n",
    "\n",
    "X = np.matrix('1,1;1,2;0,-1')\n",
    "\n",
    "print('X * X.T')\n",
    "print(X * X.T)\n",
    "\n",
    "print('\\nX.T * X')\n",
    "print(X.T * X)"
   ]
  },
  {
   "cell_type": "code",
   "execution_count": 69,
   "metadata": {},
   "outputs": [
    {
     "name": "stdout",
     "output_type": "stream",
     "text": [
      "[[2]] [[1]] [[3]]\n",
      "[[1]] [[5]] [[0]]\n",
      "[[3]] [[0]] [[5]]\n"
     ]
    }
   ],
   "source": [
    "# Матрица Грама для системы векторов\n",
    "import numpy as np\n",
    "\n",
    "a = np.matrix('1;1')\n",
    "b = np.matrix('2;-1')\n",
    "c = np.matrix('1;2')\n",
    "\n",
    "# a = np.array([[1,1]])\n",
    "# b = np.array([[2,-1]])\n",
    "# c = np.array([[1,2]])\n",
    "\n",
    "# a.T * b\n",
    "\n",
    "print(np.dot(a.T,a), np.dot(b.T,a), np.dot(c.T,a))\n",
    "print(np.dot(a.T,b), np.dot(b.T,b), np.dot(c.T,b))\n",
    "print(np.dot(a.T,c), np.dot(b.T,c), np.dot(c.T,c))"
   ]
  },
  {
   "cell_type": "code",
   "execution_count": 2,
   "metadata": {},
   "outputs": [
    {
     "data": {
      "text/plain": [
       "array([26, 30])"
      ]
     },
     "execution_count": 2,
     "metadata": {},
     "output_type": "execute_result"
    }
   ],
   "source": [
    "import numpy as np\n",
    "\n",
    "A = np.array([[5,-1,3,1,2],[-2,8,5,-1,1]])\n",
    "x = np.array([1,2,3,4,5])\n",
    "\n",
    "np.dot(A,x)"
   ]
  },
  {
   "cell_type": "code",
   "execution_count": 3,
   "metadata": {},
   "outputs": [
    {
     "data": {
      "text/plain": [
       "array([[  2,   9,  11,  14],\n",
       "       [  8, -10, -14, -11]])"
      ]
     },
     "execution_count": 3,
     "metadata": {},
     "output_type": "execute_result"
    }
   ],
   "source": [
    "A = np.array([[1,9,8,5],[3,6,3,2],[3,3,3,3],[0,2,5,9],[4,4,1,2]])\n",
    "B = np.array([[1,-1,0,1,1],[-2,0,2,-1,1]])\n",
    "\n",
    "np.dot(B,A)"
   ]
  },
  {
   "cell_type": "code",
   "execution_count": 4,
   "metadata": {},
   "outputs": [
    {
     "name": "stdout",
     "output_type": "stream",
     "text": [
      "22 3 0\n",
      "3 7 0\n",
      "0 0 3\n"
     ]
    }
   ],
   "source": [
    "x = np.array([1,2,1,0,4])\n",
    "y = np.array([2,1,-1,1,0])\n",
    "z = np.array([-1,1,-1,0,0])\n",
    "\n",
    "print(np.dot(x.T, x),np.dot(y.T, x), np.dot(z.T, x))\n",
    "print(np.dot(x.T, y),np.dot(y.T, y), np.dot(z.T, y))\n",
    "print(np.dot(x.T, z),np.dot(y.T, z), np.dot(z.T, z))"
   ]
  },
  {
   "cell_type": "code",
   "execution_count": 7,
   "metadata": {},
   "outputs": [
    {
     "data": {
      "text/plain": [
       "array([ 3.6, 52.5,  3. , 25. ,  6. ])"
      ]
     },
     "execution_count": 7,
     "metadata": {},
     "output_type": "execute_result"
    }
   ],
   "source": [
    "count = np.array([2,21,3,25,6])\n",
    "price = np.array([1.8,2.5,1,1,1])\n",
    "count * price"
   ]
  },
  {
   "cell_type": "code",
   "execution_count": 17,
   "metadata": {},
   "outputs": [
    {
     "name": "stdout",
     "output_type": "stream",
     "text": [
      "Структура количественных показателей\n"
     ]
    },
    {
     "data": {
      "text/html": [
       "<div>\n",
       "<style scoped>\n",
       "    .dataframe tbody tr th:only-of-type {\n",
       "        vertical-align: middle;\n",
       "    }\n",
       "\n",
       "    .dataframe tbody tr th {\n",
       "        vertical-align: top;\n",
       "    }\n",
       "\n",
       "    .dataframe thead th {\n",
       "        text-align: right;\n",
       "    }\n",
       "</style>\n",
       "<table border=\"1\" class=\"dataframe\">\n",
       "  <thead>\n",
       "    <tr style=\"text-align: right;\">\n",
       "      <th></th>\n",
       "      <th>Женские стрижки</th>\n",
       "      <th>Мужские стрижки</th>\n",
       "      <th>Окрашивания</th>\n",
       "      <th>Укладка</th>\n",
       "      <th>Уход</th>\n",
       "    </tr>\n",
       "  </thead>\n",
       "  <tbody>\n",
       "    <tr>\n",
       "      <td>Аня</td>\n",
       "      <td>10</td>\n",
       "      <td>5</td>\n",
       "      <td>12</td>\n",
       "      <td>15</td>\n",
       "      <td>10</td>\n",
       "    </tr>\n",
       "    <tr>\n",
       "      <td>Борис</td>\n",
       "      <td>2</td>\n",
       "      <td>21</td>\n",
       "      <td>3</td>\n",
       "      <td>25</td>\n",
       "      <td>6</td>\n",
       "    </tr>\n",
       "  </tbody>\n",
       "</table>\n",
       "</div>"
      ],
      "text/plain": [
       "       Женские стрижки  Мужские стрижки  Окрашивания  Укладка  Уход\n",
       "Аня                 10                5           12       15    10\n",
       "Борис                2               21            3       25     6"
      ]
     },
     "metadata": {},
     "output_type": "display_data"
    },
    {
     "data": {
      "text/plain": [
       "array([[10,  5, 12, 15, 10],\n",
       "       [ 2, 21,  3, 25,  6]])"
      ]
     },
     "metadata": {},
     "output_type": "display_data"
    },
    {
     "name": "stdout",
     "output_type": "stream",
     "text": [
      "\n",
      "Структура цен\n"
     ]
    },
    {
     "data": {
      "text/html": [
       "<div>\n",
       "<style scoped>\n",
       "    .dataframe tbody tr th:only-of-type {\n",
       "        vertical-align: middle;\n",
       "    }\n",
       "\n",
       "    .dataframe tbody tr th {\n",
       "        vertical-align: top;\n",
       "    }\n",
       "\n",
       "    .dataframe thead th {\n",
       "        text-align: right;\n",
       "    }\n",
       "</style>\n",
       "<table border=\"1\" class=\"dataframe\">\n",
       "  <thead>\n",
       "    <tr style=\"text-align: right;\">\n",
       "      <th></th>\n",
       "      <th>Женские стрижки</th>\n",
       "      <th>Мужские стрижки</th>\n",
       "      <th>Окрашивания</th>\n",
       "      <th>Укладка</th>\n",
       "      <th>Уход</th>\n",
       "    </tr>\n",
       "  </thead>\n",
       "  <tbody>\n",
       "    <tr>\n",
       "      <td>Аня</td>\n",
       "      <td>2.0</td>\n",
       "      <td>1.5</td>\n",
       "      <td>1</td>\n",
       "      <td>0.8</td>\n",
       "      <td>1</td>\n",
       "    </tr>\n",
       "    <tr>\n",
       "      <td>Борис</td>\n",
       "      <td>1.8</td>\n",
       "      <td>2.5</td>\n",
       "      <td>1</td>\n",
       "      <td>1.0</td>\n",
       "      <td>1</td>\n",
       "    </tr>\n",
       "  </tbody>\n",
       "</table>\n",
       "</div>"
      ],
      "text/plain": [
       "       Женские стрижки  Мужские стрижки  Окрашивания  Укладка  Уход\n",
       "Аня                2.0              1.5            1      0.8     1\n",
       "Борис              1.8              2.5            1      1.0     1"
      ]
     },
     "metadata": {},
     "output_type": "display_data"
    },
    {
     "data": {
      "text/plain": [
       "array([[2. , 1.5, 1. , 0.8, 1. ],\n",
       "       [1.8, 2.5, 1. , 1. , 1. ]])"
      ]
     },
     "metadata": {},
     "output_type": "display_data"
    }
   ],
   "source": [
    "# 1.15\n",
    "import pandas as pd\n",
    "\n",
    "Count_DF = pd.DataFrame(\n",
    "{\n",
    "    'Женские стрижки':[10,2],\n",
    "    'Мужские стрижки':[5,21],\n",
    "    'Окрашивания':[12,3],\n",
    "    'Укладка':[15,25],\n",
    "    'Уход':[10,6]\n",
    "},\n",
    "index=['Аня', 'Борис'])\n",
    "\n",
    "# Выведем структуру количественных показателей\n",
    "print('Структура количественных показателей')\n",
    "display(Count_DF)\n",
    "display(Count_DF.values)\n",
    "\n",
    "Price_DF = pd.DataFrame(\n",
    "{\n",
    "    'Женские стрижки':[2,1.8],\n",
    "    'Мужские стрижки':[1.5,2.5],\n",
    "    'Окрашивания':[1,1],\n",
    "    'Укладка':[0.8,1],\n",
    "    'Уход':[1,1]    \n",
    "},\n",
    "index=['Аня', 'Борис'])\n",
    "\n",
    "# Выведем структуру цен\n",
    "print('\\nСтруктура цен')\n",
    "display(Price_DF)\n",
    "display(Price_DF.values)\n"
   ]
  },
  {
   "cell_type": "markdown",
   "metadata": {},
   "source": [
    "Глядя на эти структуры чтобы получить сумму напрашивается лобовое поэлементное умножение и сложение. Однако т.к. я работаю с матрицами попробую применить скалярное произведение в разных вариациях.\n",
    "\n",
    "Так же проанализируем сами данные. Количественные данные - в чистом виде оборотные данные. Такие данные в 1С хранятся в регистрах оборотов. Цена - условно-статические данные. Такие данные хранятся в регистрах сведений.\n"
   ]
  },
  {
   "cell_type": "code",
   "execution_count": 15,
   "metadata": {},
   "outputs": [
    {
     "name": "stdout",
     "output_type": "stream",
     "text": [
      "Количественные (оборотные) данные как есть.\n",
      "[[10  5 12 15 10]\n",
      " [ 2 21  3 25  6]]\n",
      "\n",
      "Количественные (оборотные) данные транспонированные.\n",
      "[[10  2]\n",
      " [ 5 21]\n",
      " [12  3]\n",
      " [15 25]\n",
      " [10  6]]\n"
     ]
    }
   ],
   "source": [
    "# Количество транспонированное на цену как есть.\n",
    "\n",
    "print('Количественные (оборотные) данные как есть.')\n",
    "print(Count_DF.values)\n",
    "\n",
    "print('\\nКоличественные (оборотные) данные транспонированные.')\n",
    "print(Count_DF.values.T)\n"
   ]
  },
  {
   "cell_type": "markdown",
   "metadata": {},
   "source": [
    "Внимательно рассмотрим количественные данные:\n",
    "Пришли они к нам в виде:\n",
    "В колонках: Виды услуг\n",
    "В строках: Исполнители\n",
    "\n",
    "О такой структуре мы можем сказать:\n",
    "Объект наблюдения - Исполнители\n",
    "Разрез наблюдения - Виды услуг\n",
    "\n",
    "Почему мы так говорим?\n",
    "Вероятно потому, что мозгу проще воспринимать информацию двигаясь горизонтально слева направо. Почему? Часто строки подсвечены. И разрезов обычно сильно меньше чем объектов наблюдения. \n",
    "Отсюда следующая гипотеза - когда количество разрезов превышает контролируемое разрез перемещается в объекты наблюдения. Под количеством разрезов подразумевается мощность множества. Сейчас 2 исполнителя и 5 видов услуг. Легко анализировать и виды услуг по исполнителям и исполнителей по видам услуг. Но как изменится картина если исполнителей будет 100, а видов услуг 10000? Пока не будем об этом.\n",
    "\n",
    "Тут надо еще заметить что ебучий датафрейм уже имеет такую структуру в индексе - объекты учета, в шапке (ключах словаря) разрезы. И на самом деле не очень и понятно нахуя так сделано. Датафрейм бы мог иметь структуру обычного регистра накопления (Исполнитель, ВидУслуг, Количество) и тогда обычным левым соединением мы бы получили цену, ренту, умножили бы и свернули получив таблицу фин результата опять же в разрезе Исполнителя и Вида услуги.\n",
    "\n",
    "Это было небольшое отступление. Вернемся к нашей задаче.\n",
    "\n",
    "После транспонирования мы видим, что строки просто стали колонками в том же порядке (1-ая строка стала 1-ой колонкой, 2-ая - 2-ой) Т.е теперь в шапке Аня и Борис, а в строках виды услуг\n",
    "\n",
    "Ок. Как и было заявлено умножим Количество транспонированное на цену:\n"
   ]
  },
  {
   "cell_type": "code",
   "execution_count": 16,
   "metadata": {},
   "outputs": [
    {
     "data": {
      "text/plain": [
       "array([[23.6, 20. , 12. , 10. , 12. ],\n",
       "       [47.8, 60. , 26. , 25. , 26. ],\n",
       "       [29.4, 25.5, 15. , 12.6, 15. ],\n",
       "       [75. , 85. , 40. , 37. , 40. ],\n",
       "       [30.8, 30. , 16. , 14. , 16. ]])"
      ]
     },
     "execution_count": 16,
     "metadata": {},
     "output_type": "execute_result"
    }
   ],
   "source": [
    "# Количество.Т * Цена\n",
    "np.dot(Count_DF.values.T, Price_DF.values)"
   ]
  },
  {
   "cell_type": "code",
   "execution_count": 18,
   "metadata": {},
   "outputs": [
    {
     "data": {
      "text/plain": [
       "array([[61.5, 67.5],\n",
       "       [64.5, 90.1]])"
      ]
     },
     "execution_count": 18,
     "metadata": {},
     "output_type": "execute_result"
    }
   ],
   "source": [
    "# Количество * Цена.Т\n",
    "np.dot(Count_DF.values, Price_DF.values.T)"
   ]
  },
  {
   "cell_type": "markdown",
   "metadata": {},
   "source": [
    "Тут мы видим следующую хуйню:\n",
    "\n",
    "Выручка Ани составила 61.5, Выручка Бориса составила 90.01 (главная диагональ)"
   ]
  },
  {
   "cell_type": "code",
   "execution_count": 27,
   "metadata": {},
   "outputs": [
    {
     "data": {
      "text/plain": [
       "array([61.5, 90.1])"
      ]
     },
     "execution_count": 27,
     "metadata": {},
     "output_type": "execute_result"
    }
   ],
   "source": [
    "ar = np.dot(Count_DF.values, Price_DF.values.T)\n",
    "ar.diagonal()"
   ]
  },
  {
   "cell_type": "code",
   "execution_count": 30,
   "metadata": {},
   "outputs": [
    {
     "data": {
      "text/plain": [
       "array([[20. ,  7.5, 12. , 12. , 10. ],\n",
       "       [ 3.6, 52.5,  3. , 25. ,  6. ]])"
      ]
     },
     "execution_count": 30,
     "metadata": {},
     "output_type": "execute_result"
    }
   ],
   "source": [
    "# Вектор прибыли салона по стилистам\n",
    "Count_DF.values * Price_DF.values"
   ]
  },
  {
   "cell_type": "markdown",
   "metadata": {},
   "source": [
    "## Обратная матрица\n",
    "1. Обратная матрица это такая матрица, при умножении на которую получается единичная матрица\n",
    "2. Обратная матрица - единственная\n",
    "3. Как слева направо так и справа налево. Комутативность.\n"
   ]
  },
  {
   "cell_type": "code",
   "execution_count": 33,
   "metadata": {},
   "outputs": [
    {
     "name": "stdout",
     "output_type": "stream",
     "text": [
      "[[ 7. -2.]\n",
      " [-3.  1.]]\n",
      "[[ 1.0000000e+00 -4.4408921e-16]\n",
      " [ 0.0000000e+00  1.0000000e+00]]\n"
     ]
    }
   ],
   "source": [
    "A = np.array([[1, 2],[3, 7]])\n",
    "A_i = np.linalg.inv(A)\n",
    "print(A_i)\n",
    "print(np.dot(A, A_i))"
   ]
  },
  {
   "cell_type": "code",
   "execution_count": 34,
   "metadata": {},
   "outputs": [
    {
     "ename": "LinAlgError",
     "evalue": "Singular matrix",
     "output_type": "error",
     "traceback": [
      "\u001b[0;31m---------------------------------------------------------------------------\u001b[0m",
      "\u001b[0;31mLinAlgError\u001b[0m                               Traceback (most recent call last)",
      "\u001b[0;32m<ipython-input-34-6a1b6298bfaa>\u001b[0m in \u001b[0;36m<module>\u001b[0;34m\u001b[0m\n\u001b[1;32m      1\u001b[0m \u001b[0mA\u001b[0m \u001b[0;34m=\u001b[0m \u001b[0mnp\u001b[0m\u001b[0;34m.\u001b[0m\u001b[0marray\u001b[0m\u001b[0;34m(\u001b[0m\u001b[0;34m[\u001b[0m\u001b[0;34m[\u001b[0m\u001b[0;36m1\u001b[0m\u001b[0;34m,\u001b[0m \u001b[0;36m2\u001b[0m\u001b[0;34m]\u001b[0m\u001b[0;34m,\u001b[0m \u001b[0;34m[\u001b[0m\u001b[0;36m2\u001b[0m\u001b[0;34m,\u001b[0m \u001b[0;36m4\u001b[0m\u001b[0;34m]\u001b[0m\u001b[0;34m]\u001b[0m\u001b[0;34m)\u001b[0m\u001b[0;34m\u001b[0m\u001b[0;34m\u001b[0m\u001b[0m\n\u001b[0;32m----> 2\u001b[0;31m \u001b[0mprint\u001b[0m\u001b[0;34m(\u001b[0m\u001b[0mnp\u001b[0m\u001b[0;34m.\u001b[0m\u001b[0mlinalg\u001b[0m\u001b[0;34m.\u001b[0m\u001b[0minv\u001b[0m\u001b[0;34m(\u001b[0m\u001b[0mA\u001b[0m\u001b[0;34m)\u001b[0m\u001b[0;34m)\u001b[0m\u001b[0;34m\u001b[0m\u001b[0;34m\u001b[0m\u001b[0m\n\u001b[0m",
      "\u001b[0;32m<__array_function__ internals>\u001b[0m in \u001b[0;36minv\u001b[0;34m(*args, **kwargs)\u001b[0m\n",
      "\u001b[0;32m~/anaconda3/lib/python3.7/site-packages/numpy/linalg/linalg.py\u001b[0m in \u001b[0;36minv\u001b[0;34m(a)\u001b[0m\n\u001b[1;32m    549\u001b[0m     \u001b[0msignature\u001b[0m \u001b[0;34m=\u001b[0m \u001b[0;34m'D->D'\u001b[0m \u001b[0;32mif\u001b[0m \u001b[0misComplexType\u001b[0m\u001b[0;34m(\u001b[0m\u001b[0mt\u001b[0m\u001b[0;34m)\u001b[0m \u001b[0;32melse\u001b[0m \u001b[0;34m'd->d'\u001b[0m\u001b[0;34m\u001b[0m\u001b[0;34m\u001b[0m\u001b[0m\n\u001b[1;32m    550\u001b[0m     \u001b[0mextobj\u001b[0m \u001b[0;34m=\u001b[0m \u001b[0mget_linalg_error_extobj\u001b[0m\u001b[0;34m(\u001b[0m\u001b[0m_raise_linalgerror_singular\u001b[0m\u001b[0;34m)\u001b[0m\u001b[0;34m\u001b[0m\u001b[0;34m\u001b[0m\u001b[0m\n\u001b[0;32m--> 551\u001b[0;31m     \u001b[0mainv\u001b[0m \u001b[0;34m=\u001b[0m \u001b[0m_umath_linalg\u001b[0m\u001b[0;34m.\u001b[0m\u001b[0minv\u001b[0m\u001b[0;34m(\u001b[0m\u001b[0ma\u001b[0m\u001b[0;34m,\u001b[0m \u001b[0msignature\u001b[0m\u001b[0;34m=\u001b[0m\u001b[0msignature\u001b[0m\u001b[0;34m,\u001b[0m \u001b[0mextobj\u001b[0m\u001b[0;34m=\u001b[0m\u001b[0mextobj\u001b[0m\u001b[0;34m)\u001b[0m\u001b[0;34m\u001b[0m\u001b[0;34m\u001b[0m\u001b[0m\n\u001b[0m\u001b[1;32m    552\u001b[0m     \u001b[0;32mreturn\u001b[0m \u001b[0mwrap\u001b[0m\u001b[0;34m(\u001b[0m\u001b[0mainv\u001b[0m\u001b[0;34m.\u001b[0m\u001b[0mastype\u001b[0m\u001b[0;34m(\u001b[0m\u001b[0mresult_t\u001b[0m\u001b[0;34m,\u001b[0m \u001b[0mcopy\u001b[0m\u001b[0;34m=\u001b[0m\u001b[0;32mFalse\u001b[0m\u001b[0;34m)\u001b[0m\u001b[0;34m)\u001b[0m\u001b[0;34m\u001b[0m\u001b[0;34m\u001b[0m\u001b[0m\n\u001b[1;32m    553\u001b[0m \u001b[0;34m\u001b[0m\u001b[0m\n",
      "\u001b[0;32m~/anaconda3/lib/python3.7/site-packages/numpy/linalg/linalg.py\u001b[0m in \u001b[0;36m_raise_linalgerror_singular\u001b[0;34m(err, flag)\u001b[0m\n\u001b[1;32m     95\u001b[0m \u001b[0;34m\u001b[0m\u001b[0m\n\u001b[1;32m     96\u001b[0m \u001b[0;32mdef\u001b[0m \u001b[0m_raise_linalgerror_singular\u001b[0m\u001b[0;34m(\u001b[0m\u001b[0merr\u001b[0m\u001b[0;34m,\u001b[0m \u001b[0mflag\u001b[0m\u001b[0;34m)\u001b[0m\u001b[0;34m:\u001b[0m\u001b[0;34m\u001b[0m\u001b[0;34m\u001b[0m\u001b[0m\n\u001b[0;32m---> 97\u001b[0;31m     \u001b[0;32mraise\u001b[0m \u001b[0mLinAlgError\u001b[0m\u001b[0;34m(\u001b[0m\u001b[0;34m\"Singular matrix\"\u001b[0m\u001b[0;34m)\u001b[0m\u001b[0;34m\u001b[0m\u001b[0;34m\u001b[0m\u001b[0m\n\u001b[0m\u001b[1;32m     98\u001b[0m \u001b[0;34m\u001b[0m\u001b[0m\n\u001b[1;32m     99\u001b[0m \u001b[0;32mdef\u001b[0m \u001b[0m_raise_linalgerror_nonposdef\u001b[0m\u001b[0;34m(\u001b[0m\u001b[0merr\u001b[0m\u001b[0;34m,\u001b[0m \u001b[0mflag\u001b[0m\u001b[0;34m)\u001b[0m\u001b[0;34m:\u001b[0m\u001b[0;34m\u001b[0m\u001b[0;34m\u001b[0m\u001b[0m\n",
      "\u001b[0;31mLinAlgError\u001b[0m: Singular matrix"
     ]
    }
   ],
   "source": [
    "A = np.array([[1, 2], [2, 4]])\n",
    "print(np.linalg.inv(A))"
   ]
  },
  {
   "cell_type": "code",
   "execution_count": 36,
   "metadata": {},
   "outputs": [
    {
     "name": "stdout",
     "output_type": "stream",
     "text": [
      "[[ 5. -2.]\n",
      " [-2.  1.]]\n"
     ]
    }
   ],
   "source": [
    "A = np.array([[1, 2], [2, 5]])\n",
    "print(np.linalg.inv(A))"
   ]
  },
  {
   "cell_type": "markdown",
   "metadata": {},
   "source": [
    "## 1.7 Определитель матрицы\n",
    "**Определитель матрицы** - это число, специальная числовая характеристика квадратных матриц, которая является своего рода мерой вырожденности матрицы и для размерности 2 х 2 вычисляется по следующему правилу:\n",
    "det[[a, b],[c, d]] = ad - bc\n",
    "1. Определитель существует только для квадратных матриц\n",
    "2. Определитель единичной матрицы равен 1\n",
    "3. Определитель диагональной матрицы равен произведению диагональных элементов\n",
    "\n",
    "Матрица с нулевым определителем называется вырожденной. У нее не существует обратной, а так же столбцы и строки линейно зависимы."
   ]
  },
  {
   "cell_type": "code",
   "execution_count": 37,
   "metadata": {},
   "outputs": [],
   "source": [
    "import numpy as np\n",
    "A = np.matrix(\"1,2,3; 4,5,6; 7,8,10\")"
   ]
  },
  {
   "cell_type": "code",
   "execution_count": 38,
   "metadata": {},
   "outputs": [
    {
     "data": {
      "text/plain": [
       "matrix([[ 1,  2,  3],\n",
       "        [ 4,  5,  6],\n",
       "        [ 7,  8, 10]])"
      ]
     },
     "execution_count": 38,
     "metadata": {},
     "output_type": "execute_result"
    }
   ],
   "source": [
    "A"
   ]
  },
  {
   "cell_type": "code",
   "execution_count": 39,
   "metadata": {},
   "outputs": [
    {
     "data": {
      "text/plain": [
       "-3.000000000000001"
      ]
     },
     "execution_count": 39,
     "metadata": {},
     "output_type": "execute_result"
    }
   ],
   "source": [
    "np.linalg.det(A)"
   ]
  },
  {
   "cell_type": "code",
   "execution_count": 40,
   "metadata": {},
   "outputs": [
    {
     "data": {
      "text/plain": [
       "0.125"
      ]
     },
     "execution_count": 40,
     "metadata": {},
     "output_type": "execute_result"
    }
   ],
   "source": [
    "1/8\n"
   ]
  },
  {
   "cell_type": "markdown",
   "metadata": {},
   "source": []
  }
 ],
 "metadata": {
  "kernelspec": {
   "display_name": "Python 3",
   "language": "python",
   "name": "python3"
  }
 },
 "nbformat": 4,
 "nbformat_minor": 2
}
