{
 "cells": [
  {
   "cell_type": "markdown",
   "metadata": {},
   "source": [
    "# Модуль 4. Оптимизация\n",
    "- Градиентный спуск\n",
    "- Метод Ньютона\n",
    "- Метод Отжига\n"
   ]
  },
  {
   "cell_type": "markdown",
   "metadata": {},
   "source": [
    "Градиентный спуск - метод нахождения локального экстремума функции с помощью движения вдоль градиента."
   ]
  },
  {
   "cell_type": "markdown",
   "metadata": {},
   "source": [
    "Метод Ньютона, алгоритм Ньютона - это итерационный численный метод нахождения корня (нуля) заданной функции."
   ]
  },
  {
   "cell_type": "markdown",
   "metadata": {},
   "source": [
    "Метод отжига (алгоритм имитации отжига) - общий алгоритмический метод решения задачи глобальной оптимизации, особенно дискретной и комбинаторной оптимизации."
   ]
  },
  {
   "cell_type": "markdown",
   "metadata": {},
   "source": [
    "Градиент - некоторое направление изменения функции\n",
    "\n",
    "Градиентом функции называется вектор, состоящий из ее частных производных по всем переменным.\n",
    "\n",
    "Градиент указывает направление максимального роста функции.\n",
    "\n",
    "Матрица Гессе\n",
    "\n",
    "Функция Розенброка"
   ]
  },
  {
   "cell_type": "markdown",
   "metadata": {},
   "source": [
    "**Технические навыки**\n",
    "- SQL MAP Reduce\n",
    "- Статистика\n",
    "- Python\n",
    "- Tableau/Power BI\n",
    "- Нишевые инструменты (Google Data Studio, MS Business Object)"
   ]
  },
  {
   "cell_type": "markdown",
   "metadata": {},
   "source": [
    "классическая регрессия экономометрика"
   ]
  },
  {
   "cell_type": "code",
   "execution_count": null,
   "metadata": {},
   "outputs": [],
   "source": []
  }
 ],
 "metadata": {
  "kernelspec": {
   "display_name": "Python 3",
   "language": "python",
   "name": "python3"
  },
  "language_info": {
   "codemirror_mode": {
    "name": "ipython",
    "version": 3
   },
   "file_extension": ".py",
   "mimetype": "text/x-python",
   "name": "python",
   "nbconvert_exporter": "python",
   "pygments_lexer": "ipython3",
   "version": "3.7.4"
  }
 },
 "nbformat": 4,
 "nbformat_minor": 2
}
